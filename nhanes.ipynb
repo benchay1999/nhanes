{
  "nbformat": 4,
  "nbformat_minor": 0,
  "metadata": {
    "colab": {
      "name": "nhanes.ipynb",
      "provenance": [],
      "machine_shape": "hm",
      "background_execution": "on",
      "collapsed_sections": []
    },
    "kernelspec": {
      "name": "python3",
      "display_name": "Python 3"
    },
    "language_info": {
      "name": "python"
    },
    "accelerator": "GPU"
  },
  "cells": [
    {
      "cell_type": "code",
      "source": [
        "%cd drive/MyDrive/pythonlibs"
      ],
      "metadata": {
        "colab": {
          "base_uri": "https://localhost:8080/"
        },
        "id": "lSEtS-bO7Q8z",
        "outputId": "4a1acdbb-b1fa-4900-e6b7-3680f27c84a2"
      },
      "execution_count": null,
      "outputs": [
        {
          "output_type": "stream",
          "name": "stdout",
          "text": [
            "/content/drive/MyDrive/pythonlibs\n"
          ]
        }
      ]
    },
    {
      "cell_type": "code",
      "source": [
        "! pip install wandb\n",
        "! pip install xgboost"
      ],
      "metadata": {
        "colab": {
          "base_uri": "https://localhost:8080/"
        },
        "id": "_2_jDPje7OTL",
        "outputId": "3d43e987-3866-4c7f-e523-67242535b9f3"
      },
      "execution_count": null,
      "outputs": [
        {
          "output_type": "stream",
          "name": "stdout",
          "text": [
            "Collecting wandb\n",
            "  Downloading wandb-0.12.14-py2.py3-none-any.whl (1.8 MB)\n",
            "\u001b[?25l\r\u001b[K     |▏                               | 10 kB 37.6 MB/s eta 0:00:01\r\u001b[K     |▍                               | 20 kB 42.1 MB/s eta 0:00:01\r\u001b[K     |▌                               | 30 kB 25.5 MB/s eta 0:00:01\r\u001b[K     |▊                               | 40 kB 15.4 MB/s eta 0:00:01\r\u001b[K     |█                               | 51 kB 13.6 MB/s eta 0:00:01\r\u001b[K     |█                               | 61 kB 15.9 MB/s eta 0:00:01\r\u001b[K     |█▎                              | 71 kB 15.7 MB/s eta 0:00:01\r\u001b[K     |█▌                              | 81 kB 15.2 MB/s eta 0:00:01\r\u001b[K     |█▋                              | 92 kB 16.7 MB/s eta 0:00:01\r\u001b[K     |█▉                              | 102 kB 15.4 MB/s eta 0:00:01\r\u001b[K     |██                              | 112 kB 15.4 MB/s eta 0:00:01\r\u001b[K     |██▏                             | 122 kB 15.4 MB/s eta 0:00:01\r\u001b[K     |██▍                             | 133 kB 15.4 MB/s eta 0:00:01\r\u001b[K     |██▋                             | 143 kB 15.4 MB/s eta 0:00:01\r\u001b[K     |██▊                             | 153 kB 15.4 MB/s eta 0:00:01\r\u001b[K     |███                             | 163 kB 15.4 MB/s eta 0:00:01\r\u001b[K     |███▏                            | 174 kB 15.4 MB/s eta 0:00:01\r\u001b[K     |███▎                            | 184 kB 15.4 MB/s eta 0:00:01\r\u001b[K     |███▌                            | 194 kB 15.4 MB/s eta 0:00:01\r\u001b[K     |███▊                            | 204 kB 15.4 MB/s eta 0:00:01\r\u001b[K     |███▉                            | 215 kB 15.4 MB/s eta 0:00:01\r\u001b[K     |████                            | 225 kB 15.4 MB/s eta 0:00:01\r\u001b[K     |████▎                           | 235 kB 15.4 MB/s eta 0:00:01\r\u001b[K     |████▍                           | 245 kB 15.4 MB/s eta 0:00:01\r\u001b[K     |████▋                           | 256 kB 15.4 MB/s eta 0:00:01\r\u001b[K     |████▉                           | 266 kB 15.4 MB/s eta 0:00:01\r\u001b[K     |█████                           | 276 kB 15.4 MB/s eta 0:00:01\r\u001b[K     |█████▏                          | 286 kB 15.4 MB/s eta 0:00:01\r\u001b[K     |█████▍                          | 296 kB 15.4 MB/s eta 0:00:01\r\u001b[K     |█████▌                          | 307 kB 15.4 MB/s eta 0:00:01\r\u001b[K     |█████▊                          | 317 kB 15.4 MB/s eta 0:00:01\r\u001b[K     |██████                          | 327 kB 15.4 MB/s eta 0:00:01\r\u001b[K     |██████                          | 337 kB 15.4 MB/s eta 0:00:01\r\u001b[K     |██████▎                         | 348 kB 15.4 MB/s eta 0:00:01\r\u001b[K     |██████▌                         | 358 kB 15.4 MB/s eta 0:00:01\r\u001b[K     |██████▋                         | 368 kB 15.4 MB/s eta 0:00:01\r\u001b[K     |██████▉                         | 378 kB 15.4 MB/s eta 0:00:01\r\u001b[K     |███████                         | 389 kB 15.4 MB/s eta 0:00:01\r\u001b[K     |███████▏                        | 399 kB 15.4 MB/s eta 0:00:01\r\u001b[K     |███████▍                        | 409 kB 15.4 MB/s eta 0:00:01\r\u001b[K     |███████▋                        | 419 kB 15.4 MB/s eta 0:00:01\r\u001b[K     |███████▊                        | 430 kB 15.4 MB/s eta 0:00:01\r\u001b[K     |████████                        | 440 kB 15.4 MB/s eta 0:00:01\r\u001b[K     |████████▏                       | 450 kB 15.4 MB/s eta 0:00:01\r\u001b[K     |████████▎                       | 460 kB 15.4 MB/s eta 0:00:01\r\u001b[K     |████████▌                       | 471 kB 15.4 MB/s eta 0:00:01\r\u001b[K     |████████▊                       | 481 kB 15.4 MB/s eta 0:00:01\r\u001b[K     |████████▉                       | 491 kB 15.4 MB/s eta 0:00:01\r\u001b[K     |█████████                       | 501 kB 15.4 MB/s eta 0:00:01\r\u001b[K     |█████████▎                      | 512 kB 15.4 MB/s eta 0:00:01\r\u001b[K     |█████████▍                      | 522 kB 15.4 MB/s eta 0:00:01\r\u001b[K     |█████████▋                      | 532 kB 15.4 MB/s eta 0:00:01\r\u001b[K     |█████████▉                      | 542 kB 15.4 MB/s eta 0:00:01\r\u001b[K     |██████████                      | 552 kB 15.4 MB/s eta 0:00:01\r\u001b[K     |██████████▏                     | 563 kB 15.4 MB/s eta 0:00:01\r\u001b[K     |██████████▍                     | 573 kB 15.4 MB/s eta 0:00:01\r\u001b[K     |██████████▌                     | 583 kB 15.4 MB/s eta 0:00:01\r\u001b[K     |██████████▊                     | 593 kB 15.4 MB/s eta 0:00:01\r\u001b[K     |██████████▉                     | 604 kB 15.4 MB/s eta 0:00:01\r\u001b[K     |███████████                     | 614 kB 15.4 MB/s eta 0:00:01\r\u001b[K     |███████████▎                    | 624 kB 15.4 MB/s eta 0:00:01\r\u001b[K     |███████████▍                    | 634 kB 15.4 MB/s eta 0:00:01\r\u001b[K     |███████████▋                    | 645 kB 15.4 MB/s eta 0:00:01\r\u001b[K     |███████████▉                    | 655 kB 15.4 MB/s eta 0:00:01\r\u001b[K     |████████████                    | 665 kB 15.4 MB/s eta 0:00:01\r\u001b[K     |████████████▏                   | 675 kB 15.4 MB/s eta 0:00:01\r\u001b[K     |████████████▍                   | 686 kB 15.4 MB/s eta 0:00:01\r\u001b[K     |████████████▌                   | 696 kB 15.4 MB/s eta 0:00:01\r\u001b[K     |████████████▊                   | 706 kB 15.4 MB/s eta 0:00:01\r\u001b[K     |█████████████                   | 716 kB 15.4 MB/s eta 0:00:01\r\u001b[K     |█████████████                   | 727 kB 15.4 MB/s eta 0:00:01\r\u001b[K     |█████████████▎                  | 737 kB 15.4 MB/s eta 0:00:01\r\u001b[K     |█████████████▌                  | 747 kB 15.4 MB/s eta 0:00:01\r\u001b[K     |█████████████▋                  | 757 kB 15.4 MB/s eta 0:00:01\r\u001b[K     |█████████████▉                  | 768 kB 15.4 MB/s eta 0:00:01\r\u001b[K     |██████████████                  | 778 kB 15.4 MB/s eta 0:00:01\r\u001b[K     |██████████████▏                 | 788 kB 15.4 MB/s eta 0:00:01\r\u001b[K     |██████████████▍                 | 798 kB 15.4 MB/s eta 0:00:01\r\u001b[K     |██████████████▋                 | 808 kB 15.4 MB/s eta 0:00:01\r\u001b[K     |██████████████▊                 | 819 kB 15.4 MB/s eta 0:00:01\r\u001b[K     |███████████████                 | 829 kB 15.4 MB/s eta 0:00:01\r\u001b[K     |███████████████▏                | 839 kB 15.4 MB/s eta 0:00:01\r\u001b[K     |███████████████▎                | 849 kB 15.4 MB/s eta 0:00:01\r\u001b[K     |███████████████▌                | 860 kB 15.4 MB/s eta 0:00:01\r\u001b[K     |███████████████▊                | 870 kB 15.4 MB/s eta 0:00:01\r\u001b[K     |███████████████▉                | 880 kB 15.4 MB/s eta 0:00:01\r\u001b[K     |████████████████                | 890 kB 15.4 MB/s eta 0:00:01\r\u001b[K     |████████████████▎               | 901 kB 15.4 MB/s eta 0:00:01\r\u001b[K     |████████████████▍               | 911 kB 15.4 MB/s eta 0:00:01\r\u001b[K     |████████████████▋               | 921 kB 15.4 MB/s eta 0:00:01\r\u001b[K     |████████████████▉               | 931 kB 15.4 MB/s eta 0:00:01\r\u001b[K     |█████████████████               | 942 kB 15.4 MB/s eta 0:00:01\r\u001b[K     |█████████████████▏              | 952 kB 15.4 MB/s eta 0:00:01\r\u001b[K     |█████████████████▍              | 962 kB 15.4 MB/s eta 0:00:01\r\u001b[K     |█████████████████▌              | 972 kB 15.4 MB/s eta 0:00:01\r\u001b[K     |█████████████████▊              | 983 kB 15.4 MB/s eta 0:00:01\r\u001b[K     |██████████████████              | 993 kB 15.4 MB/s eta 0:00:01\r\u001b[K     |██████████████████              | 1.0 MB 15.4 MB/s eta 0:00:01\r\u001b[K     |██████████████████▎             | 1.0 MB 15.4 MB/s eta 0:00:01\r\u001b[K     |██████████████████▌             | 1.0 MB 15.4 MB/s eta 0:00:01\r\u001b[K     |██████████████████▋             | 1.0 MB 15.4 MB/s eta 0:00:01\r\u001b[K     |██████████████████▉             | 1.0 MB 15.4 MB/s eta 0:00:01\r\u001b[K     |███████████████████             | 1.1 MB 15.4 MB/s eta 0:00:01\r\u001b[K     |███████████████████▏            | 1.1 MB 15.4 MB/s eta 0:00:01\r\u001b[K     |███████████████████▍            | 1.1 MB 15.4 MB/s eta 0:00:01\r\u001b[K     |███████████████████▋            | 1.1 MB 15.4 MB/s eta 0:00:01\r\u001b[K     |███████████████████▊            | 1.1 MB 15.4 MB/s eta 0:00:01\r\u001b[K     |████████████████████            | 1.1 MB 15.4 MB/s eta 0:00:01\r\u001b[K     |████████████████████▏           | 1.1 MB 15.4 MB/s eta 0:00:01\r\u001b[K     |████████████████████▎           | 1.1 MB 15.4 MB/s eta 0:00:01\r\u001b[K     |████████████████████▌           | 1.1 MB 15.4 MB/s eta 0:00:01\r\u001b[K     |████████████████████▊           | 1.1 MB 15.4 MB/s eta 0:00:01\r\u001b[K     |████████████████████▉           | 1.2 MB 15.4 MB/s eta 0:00:01\r\u001b[K     |█████████████████████           | 1.2 MB 15.4 MB/s eta 0:00:01\r\u001b[K     |█████████████████████▎          | 1.2 MB 15.4 MB/s eta 0:00:01\r\u001b[K     |█████████████████████▍          | 1.2 MB 15.4 MB/s eta 0:00:01\r\u001b[K     |█████████████████████▋          | 1.2 MB 15.4 MB/s eta 0:00:01\r\u001b[K     |█████████████████████▊          | 1.2 MB 15.4 MB/s eta 0:00:01\r\u001b[K     |██████████████████████          | 1.2 MB 15.4 MB/s eta 0:00:01\r\u001b[K     |██████████████████████▏         | 1.2 MB 15.4 MB/s eta 0:00:01\r\u001b[K     |██████████████████████▎         | 1.2 MB 15.4 MB/s eta 0:00:01\r\u001b[K     |██████████████████████▌         | 1.2 MB 15.4 MB/s eta 0:00:01\r\u001b[K     |██████████████████████▊         | 1.3 MB 15.4 MB/s eta 0:00:01\r\u001b[K     |██████████████████████▉         | 1.3 MB 15.4 MB/s eta 0:00:01\r\u001b[K     |███████████████████████         | 1.3 MB 15.4 MB/s eta 0:00:01\r\u001b[K     |███████████████████████▎        | 1.3 MB 15.4 MB/s eta 0:00:01\r\u001b[K     |███████████████████████▍        | 1.3 MB 15.4 MB/s eta 0:00:01\r\u001b[K     |███████████████████████▋        | 1.3 MB 15.4 MB/s eta 0:00:01\r\u001b[K     |███████████████████████▉        | 1.3 MB 15.4 MB/s eta 0:00:01\r\u001b[K     |████████████████████████        | 1.3 MB 15.4 MB/s eta 0:00:01\r\u001b[K     |████████████████████████▏       | 1.3 MB 15.4 MB/s eta 0:00:01\r\u001b[K     |████████████████████████▍       | 1.4 MB 15.4 MB/s eta 0:00:01\r\u001b[K     |████████████████████████▌       | 1.4 MB 15.4 MB/s eta 0:00:01\r\u001b[K     |████████████████████████▊       | 1.4 MB 15.4 MB/s eta 0:00:01\r\u001b[K     |█████████████████████████       | 1.4 MB 15.4 MB/s eta 0:00:01\r\u001b[K     |█████████████████████████       | 1.4 MB 15.4 MB/s eta 0:00:01\r\u001b[K     |█████████████████████████▎      | 1.4 MB 15.4 MB/s eta 0:00:01\r\u001b[K     |█████████████████████████▌      | 1.4 MB 15.4 MB/s eta 0:00:01\r\u001b[K     |█████████████████████████▋      | 1.4 MB 15.4 MB/s eta 0:00:01\r\u001b[K     |█████████████████████████▉      | 1.4 MB 15.4 MB/s eta 0:00:01\r\u001b[K     |██████████████████████████      | 1.4 MB 15.4 MB/s eta 0:00:01\r\u001b[K     |██████████████████████████▏     | 1.5 MB 15.4 MB/s eta 0:00:01\r\u001b[K     |██████████████████████████▍     | 1.5 MB 15.4 MB/s eta 0:00:01\r\u001b[K     |██████████████████████████▋     | 1.5 MB 15.4 MB/s eta 0:00:01\r\u001b[K     |██████████████████████████▊     | 1.5 MB 15.4 MB/s eta 0:00:01\r\u001b[K     |███████████████████████████     | 1.5 MB 15.4 MB/s eta 0:00:01\r\u001b[K     |███████████████████████████▏    | 1.5 MB 15.4 MB/s eta 0:00:01\r\u001b[K     |███████████████████████████▎    | 1.5 MB 15.4 MB/s eta 0:00:01\r\u001b[K     |███████████████████████████▌    | 1.5 MB 15.4 MB/s eta 0:00:01\r\u001b[K     |███████████████████████████▊    | 1.5 MB 15.4 MB/s eta 0:00:01\r\u001b[K     |███████████████████████████▉    | 1.5 MB 15.4 MB/s eta 0:00:01\r\u001b[K     |████████████████████████████    | 1.6 MB 15.4 MB/s eta 0:00:01\r\u001b[K     |████████████████████████████▎   | 1.6 MB 15.4 MB/s eta 0:00:01\r\u001b[K     |████████████████████████████▍   | 1.6 MB 15.4 MB/s eta 0:00:01\r\u001b[K     |████████████████████████████▋   | 1.6 MB 15.4 MB/s eta 0:00:01\r\u001b[K     |████████████████████████████▉   | 1.6 MB 15.4 MB/s eta 0:00:01\r\u001b[K     |█████████████████████████████   | 1.6 MB 15.4 MB/s eta 0:00:01\r\u001b[K     |█████████████████████████████▏  | 1.6 MB 15.4 MB/s eta 0:00:01\r\u001b[K     |█████████████████████████████▍  | 1.6 MB 15.4 MB/s eta 0:00:01\r\u001b[K     |█████████████████████████████▌  | 1.6 MB 15.4 MB/s eta 0:00:01\r\u001b[K     |█████████████████████████████▊  | 1.6 MB 15.4 MB/s eta 0:00:01\r\u001b[K     |██████████████████████████████  | 1.7 MB 15.4 MB/s eta 0:00:01\r\u001b[K     |██████████████████████████████  | 1.7 MB 15.4 MB/s eta 0:00:01\r\u001b[K     |██████████████████████████████▎ | 1.7 MB 15.4 MB/s eta 0:00:01\r\u001b[K     |██████████████████████████████▌ | 1.7 MB 15.4 MB/s eta 0:00:01\r\u001b[K     |██████████████████████████████▋ | 1.7 MB 15.4 MB/s eta 0:00:01\r\u001b[K     |██████████████████████████████▉ | 1.7 MB 15.4 MB/s eta 0:00:01\r\u001b[K     |███████████████████████████████ | 1.7 MB 15.4 MB/s eta 0:00:01\r\u001b[K     |███████████████████████████████▏| 1.7 MB 15.4 MB/s eta 0:00:01\r\u001b[K     |███████████████████████████████▍| 1.7 MB 15.4 MB/s eta 0:00:01\r\u001b[K     |███████████████████████████████▋| 1.8 MB 15.4 MB/s eta 0:00:01\r\u001b[K     |███████████████████████████████▊| 1.8 MB 15.4 MB/s eta 0:00:01\r\u001b[K     |████████████████████████████████| 1.8 MB 15.4 MB/s eta 0:00:01\r\u001b[K     |████████████████████████████████| 1.8 MB 15.4 MB/s \n",
            "\u001b[?25hRequirement already satisfied: PyYAML in /usr/local/lib/python3.7/dist-packages (from wandb) (3.13)\n",
            "Requirement already satisfied: promise<3,>=2.0 in /usr/local/lib/python3.7/dist-packages (from wandb) (2.3)\n",
            "Requirement already satisfied: psutil>=5.0.0 in /usr/local/lib/python3.7/dist-packages (from wandb) (5.4.8)\n",
            "Collecting GitPython>=1.0.0\n",
            "  Downloading GitPython-3.1.27-py3-none-any.whl (181 kB)\n",
            "\u001b[K     |████████████████████████████████| 181 kB 73.9 MB/s \n",
            "\u001b[?25hRequirement already satisfied: python-dateutil>=2.6.1 in /usr/local/lib/python3.7/dist-packages (from wandb) (2.8.2)\n",
            "Requirement already satisfied: Click!=8.0.0,>=7.0 in /usr/local/lib/python3.7/dist-packages (from wandb) (7.1.2)\n",
            "Collecting pathtools\n",
            "  Downloading pathtools-0.1.2.tar.gz (11 kB)\n",
            "Collecting docker-pycreds>=0.4.0\n",
            "  Downloading docker_pycreds-0.4.0-py2.py3-none-any.whl (9.0 kB)\n",
            "Requirement already satisfied: protobuf>=3.12.0 in /usr/local/lib/python3.7/dist-packages (from wandb) (3.17.3)\n",
            "Requirement already satisfied: six>=1.13.0 in /usr/local/lib/python3.7/dist-packages (from wandb) (1.15.0)\n",
            "Requirement already satisfied: requests<3,>=2.0.0 in /usr/local/lib/python3.7/dist-packages (from wandb) (2.23.0)\n",
            "Collecting shortuuid>=0.5.0\n",
            "  Downloading shortuuid-1.0.8-py3-none-any.whl (9.5 kB)\n",
            "Collecting sentry-sdk>=1.0.0\n",
            "  Downloading sentry_sdk-1.5.10-py2.py3-none-any.whl (144 kB)\n",
            "\u001b[K     |████████████████████████████████| 144 kB 75.7 MB/s \n",
            "\u001b[?25hCollecting setproctitle\n",
            "  Downloading setproctitle-1.2.3-cp37-cp37m-manylinux_2_5_x86_64.manylinux1_x86_64.manylinux_2_17_x86_64.manylinux2014_x86_64.whl (29 kB)\n",
            "Collecting gitdb<5,>=4.0.1\n",
            "  Downloading gitdb-4.0.9-py3-none-any.whl (63 kB)\n",
            "\u001b[K     |████████████████████████████████| 63 kB 2.1 MB/s \n",
            "\u001b[?25hRequirement already satisfied: typing-extensions>=3.7.4.3 in /usr/local/lib/python3.7/dist-packages (from GitPython>=1.0.0->wandb) (4.1.1)\n",
            "Collecting smmap<6,>=3.0.1\n",
            "  Downloading smmap-5.0.0-py3-none-any.whl (24 kB)\n",
            "Requirement already satisfied: chardet<4,>=3.0.2 in /usr/local/lib/python3.7/dist-packages (from requests<3,>=2.0.0->wandb) (3.0.4)\n",
            "Requirement already satisfied: urllib3!=1.25.0,!=1.25.1,<1.26,>=1.21.1 in /usr/local/lib/python3.7/dist-packages (from requests<3,>=2.0.0->wandb) (1.24.3)\n",
            "Requirement already satisfied: certifi>=2017.4.17 in /usr/local/lib/python3.7/dist-packages (from requests<3,>=2.0.0->wandb) (2021.10.8)\n",
            "Requirement already satisfied: idna<3,>=2.5 in /usr/local/lib/python3.7/dist-packages (from requests<3,>=2.0.0->wandb) (2.10)\n",
            "Building wheels for collected packages: pathtools\n",
            "  Building wheel for pathtools (setup.py) ... \u001b[?25l\u001b[?25hdone\n",
            "  Created wheel for pathtools: filename=pathtools-0.1.2-py3-none-any.whl size=8806 sha256=460d03c0461303deb7dc0c33efccb45764c2a433209ddc14f232b36ce142db3f\n",
            "  Stored in directory: /root/.cache/pip/wheels/3e/31/09/fa59cef12cdcfecc627b3d24273699f390e71828921b2cbba2\n",
            "Successfully built pathtools\n",
            "Installing collected packages: smmap, gitdb, shortuuid, setproctitle, sentry-sdk, pathtools, GitPython, docker-pycreds, wandb\n",
            "Successfully installed GitPython-3.1.27 docker-pycreds-0.4.0 gitdb-4.0.9 pathtools-0.1.2 sentry-sdk-1.5.10 setproctitle-1.2.3 shortuuid-1.0.8 smmap-5.0.0 wandb-0.12.14\n",
            "Requirement already satisfied: xgboost in /usr/local/lib/python3.7/dist-packages (0.90)\n",
            "Requirement already satisfied: numpy in /usr/local/lib/python3.7/dist-packages (from xgboost) (1.21.6)\n",
            "Requirement already satisfied: scipy in /usr/local/lib/python3.7/dist-packages (from xgboost) (1.4.1)\n"
          ]
        }
      ]
    },
    {
      "cell_type": "code",
      "source": [
        "import wandb\n",
        "wandb.init(project=\"NHANES\")\n",
        "import numpy as np\n",
        "import os\n",
        "import torch\n",
        "import torch.nn as nn\n",
        "import matplotlib.pyplot as plt\n",
        "import pandas as pd\n",
        "\n",
        "import utils\n",
        "import models\n",
        "import algorithm\n",
        "from torch.optim.lr_scheduler import ExponentialLR, StepLR\n",
        "from sklearn.model_selection import train_test_split\n",
        "from sklearn.tree import DecisionTreeClassifier, plot_tree\n",
        "from sklearn import svm\n",
        "from sklearn.ensemble import RandomForestClassifier\n",
        "from sklearn.linear_model import LogisticRegression\n",
        "from sklearn.model_selection import GridSearchCV, RandomizedSearchCV\n",
        "from sklearn.metrics import mean_squared_error, accuracy_score\n",
        "from torch.utils.data import TensorDataset, DataLoader"
      ],
      "metadata": {
        "id": "IYfY9fA1PQ4u",
        "colab": {
          "base_uri": "https://localhost:8080/",
          "height": 158
        },
        "outputId": "b4e7aff1-a1fb-4719-9fd6-61b876756d65"
      },
      "execution_count": null,
      "outputs": [
        {
          "output_type": "stream",
          "name": "stderr",
          "text": [
            "/usr/local/lib/python3.7/dist-packages/requests/__init__.py:91: RequestsDependencyWarning: urllib3 (1.26.9) or chardet (3.0.4) doesn't match a supported version!\n",
            "  RequestsDependencyWarning)\n"
          ]
        },
        {
          "output_type": "display_data",
          "data": {
            "text/plain": [
              "<IPython.core.display.Javascript object>"
            ],
            "application/javascript": [
              "\n",
              "        window._wandbApiKey = new Promise((resolve, reject) => {\n",
              "            function loadScript(url) {\n",
              "            return new Promise(function(resolve, reject) {\n",
              "                let newScript = document.createElement(\"script\");\n",
              "                newScript.onerror = reject;\n",
              "                newScript.onload = resolve;\n",
              "                document.body.appendChild(newScript);\n",
              "                newScript.src = url;\n",
              "            });\n",
              "            }\n",
              "            loadScript(\"https://cdn.jsdelivr.net/npm/postmate/build/postmate.min.js\").then(() => {\n",
              "            const iframe = document.createElement('iframe')\n",
              "            iframe.style.cssText = \"width:0;height:0;border:none\"\n",
              "            document.body.appendChild(iframe)\n",
              "            const handshake = new Postmate({\n",
              "                container: iframe,\n",
              "                url: 'https://wandb.ai/authorize'\n",
              "            });\n",
              "            const timeout = setTimeout(() => reject(\"Couldn't auto authenticate\"), 5000)\n",
              "            handshake.then(function(child) {\n",
              "                child.on('authorize', data => {\n",
              "                    clearTimeout(timeout)\n",
              "                    resolve(data)\n",
              "                });\n",
              "            });\n",
              "            })\n",
              "        });\n",
              "    "
            ]
          },
          "metadata": {}
        },
        {
          "output_type": "stream",
          "name": "stderr",
          "text": [
            "\u001b[34m\u001b[1mwandb\u001b[0m: Appending key for api.wandb.ai to your netrc file: /root/.netrc\n"
          ]
        },
        {
          "output_type": "display_data",
          "data": {
            "text/plain": [
              "<IPython.core.display.HTML object>"
            ],
            "text/html": [
              "Tracking run with wandb version 0.12.14"
            ]
          },
          "metadata": {}
        },
        {
          "output_type": "display_data",
          "data": {
            "text/plain": [
              "<IPython.core.display.HTML object>"
            ],
            "text/html": [
              "Run data is saved locally in <code>/content/drive/MyDrive/pythonlibs/wandb/run-20220420_044054-1kq4zhto</code>"
            ]
          },
          "metadata": {}
        },
        {
          "output_type": "display_data",
          "data": {
            "text/plain": [
              "<IPython.core.display.HTML object>"
            ],
            "text/html": [
              "Syncing run <strong><a href=\"https://wandb.ai/benchay/NHANES/runs/1kq4zhto\" target=\"_blank\">worthy-tree-23</a></strong> to <a href=\"https://wandb.ai/benchay/NHANES\" target=\"_blank\">Weights & Biases</a> (<a href=\"https://wandb.me/run\" target=\"_blank\">docs</a>)<br/>"
            ]
          },
          "metadata": {}
        }
      ]
    },
    {
      "cell_type": "code",
      "source": [
        "X = np.fromfile('../nhanes_data/data_onehot_encoded_outer.dat').reshape(11108,-1)\n",
        "\n",
        "y = np.fromfile('../nhanes_data/label.dat')\n",
        "X_train, X_test, y_train, y_test = train_test_split(X, y, test_size=0.2)\n",
        "device = \"cuda\" if torch.cuda.is_available() else \"cpu\"\n",
        "\n",
        "X_train = torch.Tensor(X_train).to(device)\n",
        "X_test = torch.Tensor(X_test).to(device)\n",
        "y_train = torch.Tensor(y_train).to(device)\n",
        "y_test = torch.Tensor(y_test).to(device)"
      ],
      "metadata": {
        "id": "nIarSHYQ75h5"
      },
      "execution_count": null,
      "outputs": []
    },
    {
      "cell_type": "code",
      "source": [
        "\"\"\"\n",
        "from absl import app, flags\n",
        "\n",
        "FLAGS = flags.FLAGS\n",
        "\n",
        "flags.DEFINE_integer('n_layers', 1, \"# of layers of your FCN\")\n",
        "flags.DEFINE_integer('n_hidden_units', 100, \"# of hidden units of your FCN: they are all identical\")\n",
        "flags.DEFINE_float('lr', 1e-4, \"learning rate\")\n",
        "flags.DEFINE_integer('n_epochs', 1000, \"# of epochs\")\n",
        "flags.DEFINE_string('lr_scheduler', \"step\", \"either step(step decay) or None\")\n",
        "\n",
        "\"\"\"\n",
        "hyperparams = {'n_layers' : 5, \n",
        "               'n_hidden_units' : 50,\n",
        "               'batch_size' : 256,\n",
        "               'optimizer' : \"adam\", # \"adam\" or \"sgd\"\n",
        "               'lr' : 1e-4,\n",
        "               'n_epochs' : 10000,\n",
        "               'lr_scheduler' : \"exp\", # \"step\" or \"exp\" or \"none\"\n",
        "               'lr_scheduler_step_size' : 50,\n",
        "               'lr_scheduler_gamma' : 0.2\n",
        "               }\n",
        "print(hyperparams)"
      ],
      "metadata": {
        "colab": {
          "base_uri": "https://localhost:8080/"
        },
        "id": "-QdYJjH_5bsD",
        "outputId": "323d5c46-b8b3-43f6-cc8c-a316ed2f5f4a"
      },
      "execution_count": null,
      "outputs": [
        {
          "output_type": "stream",
          "name": "stdout",
          "text": [
            "{'n_layers': 5, 'n_hidden_units': 50, 'batch_size': 256, 'optimizer': 'adam', 'lr': 0.0001, 'n_epochs': 10000, 'lr_scheduler': 'exp', 'lr_scheduler_step_size': 50, 'lr_scheduler_gamma': 0.2}\n"
          ]
        }
      ]
    },
    {
      "cell_type": "code",
      "source": [
        "train_set = TensorDataset(X_train, y_train)\n",
        "test_set = TensorDataset(X_test, y_test)\n",
        "train_loader = DataLoader(train_set, shuffle=True, batch_size=hyperparams[\"batch_size\"])"
      ],
      "metadata": {
        "id": "9btKFb6T18mK"
      },
      "execution_count": null,
      "outputs": []
    },
    {
      "cell_type": "code",
      "source": [
        "net = models.Classifier(n_layers=hyperparams[\"n_layers\"], \n",
        "                        n_inputs=X_train.shape[1], \n",
        "                        n_hidden_units= hyperparams[\"n_hidden_units\"], \n",
        "                        n_classes=2).to(device)\n",
        "if hyperparams[\"optimizer\"] == \"adam\":\n",
        "    optimizer = torch.optim.Adam(net.parameters(), lr=hyperparams[\"lr\"])\n",
        "if hyperparams[\"optimizer\"] == \"sgd\":\n",
        "    optimizer = torch.optim.SGD(net.parameters(), lr=hyperparams[\"lr\"])\n",
        "if hyperparams[\"lr_scheduler\"] == \"step\":\n",
        "    lr_scheduler = StepLR(optimizer, step_size=hyperparams[\"lr_scheduler_step_size\"], gamma=hyperparams[\"lr_scheduler_gamma\"])\n",
        "if hyperparams[\"lr_scheduler\"] == \"exp\":\n",
        "    lr_scheduler = ExponentialLR(optimizer, gamma=hyperparams[\"lr_scheduler_gamma\"])\n",
        "else: \n",
        "    lr_scheduler = None"
      ],
      "metadata": {
        "id": "AsngqhtMEqCn"
      },
      "execution_count": null,
      "outputs": []
    },
    {
      "cell_type": "code",
      "source": [
        "accs, costs, net = algorithm.train(train_loader, X_test, \n",
        "                                   y_test, net, optimizer, \n",
        "                                   lr_scheduler=lr_scheduler, \n",
        "                                   device=device, \n",
        "                                   n_epochs=hyperparams[\"n_epochs\"])\n",
        "\n",
        "wandb.log({\"train accuracy\" : accs[0],\n",
        "           \"test accuracy\" : accs[1]})"
      ],
      "metadata": {
        "colab": {
          "base_uri": "https://localhost:8080/"
        },
        "id": "SGzss3HqjYgm",
        "outputId": "ab7e35c5-7665-4f83-b9bb-66a6ac675fbd"
      },
      "execution_count": null,
      "outputs": [
        {
          "output_type": "stream",
          "name": "stdout",
          "text": [
            ""
          ]
        }
      ]
    },
    {
      "cell_type": "code",
      "source": [
        "plt.plot(range(len(costs)), costs)"
      ],
      "metadata": {
        "id": "8teVdQcgmTsR",
        "colab": {
          "base_uri": "https://localhost:8080/",
          "height": 282
        },
        "outputId": "c12cc728-9b0e-4c1a-86d6-b0186c62e4af"
      },
      "execution_count": null,
      "outputs": [
        {
          "output_type": "execute_result",
          "data": {
            "text/plain": [
              "[<matplotlib.lines.Line2D at 0x7faa7d5f9790>]"
            ]
          },
          "metadata": {},
          "execution_count": 9
        },
        {
          "output_type": "display_data",
          "data": {
            "text/plain": [
              "<Figure size 432x288 with 1 Axes>"
            ],
            "image/png": "[encoded data removed]"
          },
          "metadata": {
            "needs_background": "light"
          }
        }
      ]
    },
    {
      "cell_type": "code",
      "source": [
        "PATH= \"../ml_models/onehot/lyrs{}_hidden{}_bs{}_optimizer{}_lr{}_ep{}_lrsch{}_lrstp{}_lrgma{}.pt\".format(hyperparams[\"n_layers\"],\n",
        "                                                                          hyperparams[\"n_hidden_units\"],\n",
        "                                                                          hyperparams[\"batch_size\"],\n",
        "                                                                          hyperparams[\"optimizer\"],\n",
        "                                                                          hyperparams[\"lr\"],\n",
        "                                                                          hyperparams[\"n_epochs\"],\n",
        "                                                                          hyperparams[\"lr_scheduler\"],\n",
        "                                                                          hyperparams[\"lr_scheduler_step_size\"],\n",
        "                                                                          hyperparams[\"lr_scheduler_gamma\"])\n",
        "torch.save(net.state_dict(), PATH)"
      ],
      "metadata": {
        "id": "EHCoGpdbX4qH"
      },
      "execution_count": null,
      "outputs": []
    }
  ]
}